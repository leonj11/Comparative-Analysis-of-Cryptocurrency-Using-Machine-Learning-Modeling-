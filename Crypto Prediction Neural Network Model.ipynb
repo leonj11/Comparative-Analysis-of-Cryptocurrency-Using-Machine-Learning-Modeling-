{
 "cells": [
  {
   "cell_type": "markdown",
   "metadata": {},
   "source": [
    "## Loading Financial Data"
   ]
  },
  {
   "cell_type": "code",
   "execution_count": 1,
   "metadata": {},
   "outputs": [],
   "source": [
    "# Libraries\n",
    "import numpy as np\n",
    "import matplotlib.pyplot as plt\n",
    "import pandas as pd\n",
    "import pandas_datareader as web\n",
    "import datetime as dt\n",
    "from datetime import timedelta\n",
    "\n",
    "import tensorflow as tf\n",
    "\n",
    "from sklearn.preprocessing import MinMaxScaler                # Scale the data between 0 and 1\n",
    "from tensorflow.keras.layers import Dense\n",
    "from tensorflow.keras.layers import Dropout\n",
    "from tensorflow.keras.layers import LSTM\n",
    "from tensorflow.keras.models import Sequential"
   ]
  },
  {
   "cell_type": "code",
   "execution_count": 2,
   "metadata": {},
   "outputs": [],
   "source": [
    "import pymysql\n",
    "import mysql.connector"
   ]
  },
  {
   "cell_type": "code",
   "execution_count": 3,
   "metadata": {},
   "outputs": [],
   "source": [
    "crypto_currency = 'DOGE'\n",
    "against_currency = 'USD'"
   ]
  },
  {
   "cell_type": "code",
   "execution_count": 4,
   "metadata": {},
   "outputs": [],
   "source": [
    "start = dt.datetime(2015,1,1)\n",
    "end = dt.datetime.now()"
   ]
  },
  {
   "cell_type": "code",
   "execution_count": 5,
   "metadata": {},
   "outputs": [],
   "source": [
    "data = web.DataReader(f'{crypto_currency}-{against_currency}', 'yahoo', start, end)"
   ]
  },
  {
   "cell_type": "code",
   "execution_count": 6,
   "metadata": {},
   "outputs": [
    {
     "data": {
      "text/html": [
       "<div>\n",
       "<style scoped>\n",
       "    .dataframe tbody tr th:only-of-type {\n",
       "        vertical-align: middle;\n",
       "    }\n",
       "\n",
       "    .dataframe tbody tr th {\n",
       "        vertical-align: top;\n",
       "    }\n",
       "\n",
       "    .dataframe thead th {\n",
       "        text-align: right;\n",
       "    }\n",
       "</style>\n",
       "<table border=\"1\" class=\"dataframe\">\n",
       "  <thead>\n",
       "    <tr style=\"text-align: right;\">\n",
       "      <th></th>\n",
       "      <th>High</th>\n",
       "      <th>Low</th>\n",
       "      <th>Open</th>\n",
       "      <th>Close</th>\n",
       "      <th>Volume</th>\n",
       "      <th>Adj Close</th>\n",
       "    </tr>\n",
       "    <tr>\n",
       "      <th>Date</th>\n",
       "      <th></th>\n",
       "      <th></th>\n",
       "      <th></th>\n",
       "      <th></th>\n",
       "      <th></th>\n",
       "      <th></th>\n",
       "    </tr>\n",
       "  </thead>\n",
       "  <tbody>\n",
       "    <tr>\n",
       "      <th>2017-11-09</th>\n",
       "      <td>0.001415</td>\n",
       "      <td>0.001181</td>\n",
       "      <td>0.001207</td>\n",
       "      <td>0.001415</td>\n",
       "      <td>6259550</td>\n",
       "      <td>0.001415</td>\n",
       "    </tr>\n",
       "    <tr>\n",
       "      <th>2017-11-10</th>\n",
       "      <td>0.001431</td>\n",
       "      <td>0.001125</td>\n",
       "      <td>0.001421</td>\n",
       "      <td>0.001163</td>\n",
       "      <td>4246520</td>\n",
       "      <td>0.001163</td>\n",
       "    </tr>\n",
       "    <tr>\n",
       "      <th>2017-11-11</th>\n",
       "      <td>0.001257</td>\n",
       "      <td>0.001141</td>\n",
       "      <td>0.001146</td>\n",
       "      <td>0.001201</td>\n",
       "      <td>2231080</td>\n",
       "      <td>0.001201</td>\n",
       "    </tr>\n",
       "    <tr>\n",
       "      <th>2017-11-12</th>\n",
       "      <td>0.001210</td>\n",
       "      <td>0.001002</td>\n",
       "      <td>0.001189</td>\n",
       "      <td>0.001038</td>\n",
       "      <td>3288960</td>\n",
       "      <td>0.001038</td>\n",
       "    </tr>\n",
       "    <tr>\n",
       "      <th>2017-11-13</th>\n",
       "      <td>0.001212</td>\n",
       "      <td>0.001019</td>\n",
       "      <td>0.001046</td>\n",
       "      <td>0.001211</td>\n",
       "      <td>2481270</td>\n",
       "      <td>0.001211</td>\n",
       "    </tr>\n",
       "  </tbody>\n",
       "</table>\n",
       "</div>"
      ],
      "text/plain": [
       "                High       Low      Open     Close   Volume  Adj Close\n",
       "Date                                                                  \n",
       "2017-11-09  0.001415  0.001181  0.001207  0.001415  6259550   0.001415\n",
       "2017-11-10  0.001431  0.001125  0.001421  0.001163  4246520   0.001163\n",
       "2017-11-11  0.001257  0.001141  0.001146  0.001201  2231080   0.001201\n",
       "2017-11-12  0.001210  0.001002  0.001189  0.001038  3288960   0.001038\n",
       "2017-11-13  0.001212  0.001019  0.001046  0.001211  2481270   0.001211"
      ]
     },
     "execution_count": 6,
     "metadata": {},
     "output_type": "execute_result"
    }
   ],
   "source": [
    "data.head()"
   ]
  },
  {
   "cell_type": "markdown",
   "metadata": {},
   "source": [
    "## Data Preparation"
   ]
  },
  {
   "cell_type": "code",
   "execution_count": 7,
   "metadata": {},
   "outputs": [],
   "source": [
    "scaler = MinMaxScaler(feature_range = (0, 1))\n",
    "scaled_data = scaler.fit_transform(data['Close'].values.reshape(-1,1))"
   ]
  },
  {
   "cell_type": "code",
   "execution_count": 8,
   "metadata": {},
   "outputs": [],
   "source": [
    "# Number of days where the prediction is based on\n",
    "prediction_days = 60\n",
    "#future_day = 7"
   ]
  },
  {
   "cell_type": "code",
   "execution_count": 9,
   "metadata": {},
   "outputs": [],
   "source": [
    "# Train Data\n",
    "x_train, y_train = [], []\n",
    "\n",
    "for x in range(prediction_days, len(scaled_data)): # - future_day):\n",
    "    x_train.append(scaled_data[x - prediction_days: x, 0])\n",
    "    y_train.append(scaled_data[x, 0])  # + future_days"
   ]
  },
  {
   "cell_type": "code",
   "execution_count": 10,
   "metadata": {},
   "outputs": [],
   "source": [
    "x_train, y_train = np.array(x_train), np.array(y_train)\n",
    "x_train = np.reshape(x_train, (x_train.shape[0], x_train.shape[1], 1))"
   ]
  },
  {
   "cell_type": "markdown",
   "metadata": {},
   "source": [
    "## Model Layers"
   ]
  },
  {
   "cell_type": "code",
   "execution_count": 11,
   "metadata": {},
   "outputs": [
    {
     "name": "stdout",
     "output_type": "stream",
     "text": [
      "Epoch 1/25\n",
      "50/50 [==============================] - 13s 63ms/step - loss: 0.0047\n",
      "Epoch 2/25\n",
      "50/50 [==============================] - 3s 60ms/step - loss: 0.0022\n",
      "Epoch 3/25\n",
      "50/50 [==============================] - 3s 59ms/step - loss: 0.0020\n",
      "Epoch 4/25\n",
      "50/50 [==============================] - 3s 60ms/step - loss: 0.0021\n",
      "Epoch 5/25\n",
      "50/50 [==============================] - 3s 60ms/step - loss: 0.0023\n",
      "Epoch 6/25\n",
      "50/50 [==============================] - 3s 59ms/step - loss: 0.0018\n",
      "Epoch 7/25\n",
      "50/50 [==============================] - 3s 59ms/step - loss: 0.0016\n",
      "Epoch 8/25\n",
      "50/50 [==============================] - 3s 60ms/step - loss: 0.0018\n",
      "Epoch 9/25\n",
      "50/50 [==============================] - 3s 61ms/step - loss: 0.0017\n",
      "Epoch 10/25\n",
      "50/50 [==============================] - 3s 60ms/step - loss: 0.0016\n",
      "Epoch 11/25\n",
      "50/50 [==============================] - 3s 60ms/step - loss: 0.0015\n",
      "Epoch 12/25\n",
      "50/50 [==============================] - 3s 59ms/step - loss: 0.0015\n",
      "Epoch 13/25\n",
      "50/50 [==============================] - 3s 59ms/step - loss: 0.0014\n",
      "Epoch 14/25\n",
      "50/50 [==============================] - 3s 60ms/step - loss: 0.0014\n",
      "Epoch 15/25\n",
      "50/50 [==============================] - 3s 60ms/step - loss: 0.0014\n",
      "Epoch 16/25\n",
      "50/50 [==============================] - 3s 60ms/step - loss: 0.0011\n",
      "Epoch 17/25\n",
      "50/50 [==============================] - 3s 59ms/step - loss: 0.0013\n",
      "Epoch 18/25\n",
      "50/50 [==============================] - 3s 59ms/step - loss: 0.0012\n",
      "Epoch 19/25\n",
      "50/50 [==============================] - 3s 60ms/step - loss: 0.0013\n",
      "Epoch 20/25\n",
      "50/50 [==============================] - 3s 62ms/step - loss: 0.0014\n",
      "Epoch 21/25\n",
      "50/50 [==============================] - 3s 59ms/step - loss: 0.0014\n",
      "Epoch 22/25\n",
      "50/50 [==============================] - 3s 60ms/step - loss: 0.0013\n",
      "Epoch 23/25\n",
      "50/50 [==============================] - 3s 60ms/step - loss: 0.0012\n",
      "Epoch 24/25\n",
      "50/50 [==============================] - 3s 59ms/step - loss: 0.0012\n",
      "Epoch 25/25\n",
      "50/50 [==============================] - 3s 60ms/step - loss: 0.0011\n"
     ]
    },
    {
     "data": {
      "text/plain": [
       "<keras.callbacks.History at 0x1dedf623ee0>"
      ]
     },
     "execution_count": 11,
     "metadata": {},
     "output_type": "execute_result"
    }
   ],
   "source": [
    "model = Sequential()\n",
    "\n",
    "model.add(LSTM(units = 50, return_sequences = True, input_shape = (x_train.shape[1], 1)))\n",
    "model.add(Dropout(0.2)) \n",
    "\n",
    "model.add(LSTM(units = 50, return_sequences = True))\n",
    "model.add(Dropout(0.25))\n",
    "\n",
    "model.add(LSTM(units = 50))\n",
    "model.add(Dropout(0.25))\n",
    "\n",
    "model.add(Dense(units = 1))\n",
    "\n",
    "model.compile(optimizer = 'adam', loss = 'mean_squared_error')\n",
    "model.fit(x_train, y_train, epochs = 25, batch_size = 32)"
   ]
  },
  {
   "cell_type": "markdown",
   "metadata": {},
   "source": [
    "## Testing the Model"
   ]
  },
  {
   "cell_type": "code",
   "execution_count": 12,
   "metadata": {},
   "outputs": [],
   "source": [
    "test_start = dt.datetime(2017,1,1)   # Starts date of the data\n",
    "test_end = dt.datetime.now()\n",
    "\n",
    "test_data = web.DataReader(f'{crypto_currency}-{against_currency}', 'yahoo', test_start, test_end)\n",
    "actual_prices = test_data['Close'].values"
   ]
  },
  {
   "cell_type": "code",
   "execution_count": 13,
   "metadata": {},
   "outputs": [],
   "source": [
    "total_dataset = pd.concat((data['Close'], test_data['Close']), axis = 0)"
   ]
  },
  {
   "cell_type": "code",
   "execution_count": 14,
   "metadata": {},
   "outputs": [],
   "source": [
    "model_inputs = total_dataset[len(total_dataset) - len(test_data) - prediction_days:].values\n",
    "model_inputs = model_inputs.reshape(-1, 1)\n",
    "model_inputs = scaler.fit_transform(model_inputs)"
   ]
  },
  {
   "cell_type": "code",
   "execution_count": 15,
   "metadata": {},
   "outputs": [
    {
     "data": {
      "text/plain": [
       "1690"
      ]
     },
     "execution_count": 15,
     "metadata": {},
     "output_type": "execute_result"
    }
   ],
   "source": [
    "len(model_inputs)"
   ]
  },
  {
   "cell_type": "code",
   "execution_count": 16,
   "metadata": {},
   "outputs": [],
   "source": [
    "x_test = []\n",
    "\n",
    "for x in range(prediction_days, len(model_inputs)):\n",
    "    x_test.append(model_inputs[x-prediction_days:x, 0])\n",
    "x_test = np.array(x_test)\n",
    "x_test = np.reshape(x_test, (x_test.shape[0], x_test.shape[1], 1))"
   ]
  },
  {
   "cell_type": "code",
   "execution_count": 17,
   "metadata": {},
   "outputs": [],
   "source": [
    "# Predict Prices\n",
    "prediction_prices = model.predict(x_test)\n",
    "prediction_prices = scaler.inverse_transform(prediction_prices)"
   ]
  },
  {
   "cell_type": "code",
   "execution_count": 18,
   "metadata": {},
   "outputs": [
    {
     "data": {
      "image/png": "[encoded data removed]",
      "text/plain": [
       "<Figure size 432x288 with 1 Axes>"
      ]
     },
     "metadata": {
      "needs_background": "light"
     },
     "output_type": "display_data"
    }
   ],
   "source": [
    "# Plotting\n",
    "plt.plot(actual_prices, color = 'black', label = 'Actual Prices')\n",
    "plt.plot(prediction_prices, color = 'green', label = 'Predicted Prices')\n",
    "plt.title(f'{crypto_currency} Price Prediction')\n",
    "plt.xlabel('Time [days]')\n",
    "plt.ylabel('Price [USD]')\n",
    "plt.legend(loc = 'upper left')\n",
    "plt.show()"
   ]
  },
  {
   "cell_type": "code",
   "execution_count": 19,
   "metadata": {},
   "outputs": [
    {
     "name": "stdout",
     "output_type": "stream",
     "text": [
      "['2022-04-27', array([0.15556327], dtype=float32)]\n"
     ]
    }
   ],
   "source": [
    "next_day_prediction = []\n",
    "\n",
    "next_day_prediction = [(end + timedelta(1)).strftime('%Y-%m-%d'), prediction_prices[-1]]\n",
    "\n",
    "print(next_day_prediction)"
   ]
  }
 ],
 "metadata": {
  "kernelspec": {
   "display_name": "Python 3",
   "language": "python",
   "name": "python3"
  },
  "language_info": {
   "codemirror_mode": {
    "name": "ipython",
    "version": 3
   },
   "file_extension": ".py",
   "mimetype": "text/x-python",
   "name": "python",
   "nbconvert_exporter": "python",
   "pygments_lexer": "ipython3",
   "version": "3.8.5"
  }
 },
 "nbformat": 4,
 "nbformat_minor": 4
}
